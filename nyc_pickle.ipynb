{
 "cells": [
  {
   "cell_type": "code",
   "execution_count": 1,
   "metadata": {},
   "outputs": [],
   "source": [
    "import dask as dd\n",
    "import numpy as np\n",
    "import pandas as pd\n",
    "from sklearn.ensemble import RandomForestRegressor\n",
    "from sklearn.ensemble import RandomForestClassifier\n",
    "from sklearn.model_selection import train_test_split\n",
    "from sklearn.metrics import r2_score\n",
    "from sklearn.tree import DecisionTreeRegressor\n",
    "import pickle\n",
    "import numpy as np\n",
    "import inspect\n",
    "import os"
   ]
  },
  {
   "cell_type": "code",
   "execution_count": 4,
   "metadata": {},
   "outputs": [
    {
     "name": "stderr",
     "output_type": "stream",
     "text": [
      "/Users/richardtran/opt/anaconda3/lib/python3.7/site-packages/IPython/core/interactiveshell.py:3063: DtypeWarning: Columns (61,62,94,95) have mixed types.Specify dtype option on import or set low_memory=False.\n",
      "  interactivity=interactivity, compiler=compiler, result=result)\n"
     ]
    }
   ],
   "source": [
    "os.chdir(\"/Users/richardtran/downloads\")\n",
    "df = pd.read_csv('exportdf.csv')\n",
    "df['price'] = df['price'].str.replace('$', '')\n",
    "df['price'] = df['price'].str.replace(',', '')\n",
    "df[\"price\"] = pd.to_numeric(df[\"price\"])"
   ]
  },
  {
   "cell_type": "code",
   "execution_count": 5,
   "metadata": {},
   "outputs": [],
   "source": [
    "df2 = df[['ntaname','room_type','property_type','price']]\n",
    "\n",
    "def Encode(df2):\n",
    "    for column in df2.columns[df2.columns.isin(['ntaname', 'room_type','property_type'])]:\n",
    "        df2[column] = df2[column].factorize()[0]\n",
    "    return df2\n",
    "\n",
    "df3 = Encode(df2.copy())"
   ]
  },
  {
   "cell_type": "code",
   "execution_count": 6,
   "metadata": {},
   "outputs": [
    {
     "data": {
      "text/plain": [
       "0.39069913854927363"
      ]
     },
     "execution_count": 6,
     "metadata": {},
     "output_type": "execute_result"
    }
   ],
   "source": [
    "x = df3.iloc[:,[0,1,2]]\n",
    "y = df3['price']\n",
    "\n",
    "x_train,x_test,y_train,y_test=train_test_split(x,y,test_size=.1,random_state=1)\n",
    "DTree=DecisionTreeRegressor(min_samples_leaf=.0001)\n",
    "DTree.fit(x_train,y_train)\n",
    "y_predict=DTree.predict(x_test)\n",
    "r2_score(y_test,y_predict)\n"
   ]
  },
  {
   "cell_type": "code",
   "execution_count": 12,
   "metadata": {},
   "outputs": [
    {
     "name": "stdout",
     "output_type": "stream",
     "text": [
      "[75.18705036]\n"
     ]
    }
   ],
   "source": [
    "# Saving model to disk\n",
    "pickle.dump(DTree, open('nyc_model3.pkl','wb'))\n",
    "\n",
    "# Loading model to compare the results\n",
    "model = pickle.load(open('nyc_model3.pkl','rb'))\n",
    "print(model.predict([[1, 1, 1]]))\n"
   ]
  },
  {
   "cell_type": "code",
   "execution_count": 148,
   "metadata": {},
   "outputs": [
    {
     "data": {
      "text/plain": [
       "array([75.18705036])"
      ]
     },
     "execution_count": 148,
     "metadata": {},
     "output_type": "execute_result"
    }
   ],
   "source": [
    "DTree.predict([[1,1,1]])"
   ]
  },
  {
   "cell_type": "code",
   "execution_count": 11,
   "metadata": {},
   "outputs": [
    {
     "name": "stdout",
     "output_type": "stream",
     "text": [
      "# packages in environment at /Users/richardtran/opt/anaconda3:\n",
      "#\n",
      "# Name                    Version                   Build  Channel\n",
      "scikit-learn              0.22.2.post1             pypi_0    pypi\n",
      "\n",
      "Note: you may need to restart the kernel to use updated packages.\n"
     ]
    }
   ],
   "source": [
    "conda list scikit-learn"
   ]
  },
  {
   "cell_type": "code",
   "execution_count": 79,
   "metadata": {},
   "outputs": [
    {
     "data": {
      "text/html": [
       "<div>\n",
       "<style scoped>\n",
       "    .dataframe tbody tr th:only-of-type {\n",
       "        vertical-align: middle;\n",
       "    }\n",
       "\n",
       "    .dataframe tbody tr th {\n",
       "        vertical-align: top;\n",
       "    }\n",
       "\n",
       "    .dataframe thead th {\n",
       "        text-align: right;\n",
       "    }\n",
       "</style>\n",
       "<table border=\"1\" class=\"dataframe\">\n",
       "  <thead>\n",
       "    <tr style=\"text-align: right;\">\n",
       "      <th></th>\n",
       "      <th>nta_id</th>\n",
       "      <th>room_type_id</th>\n",
       "      <th>property_type_id</th>\n",
       "      <th>Price</th>\n",
       "      <th>ntaname</th>\n",
       "      <th>room_type</th>\n",
       "      <th>property_type</th>\n",
       "    </tr>\n",
       "  </thead>\n",
       "  <tbody>\n",
       "    <tr>\n",
       "      <th>0</th>\n",
       "      <td>0</td>\n",
       "      <td>0</td>\n",
       "      <td>0</td>\n",
       "      <td>225.0</td>\n",
       "      <td>Midtown-Midtown South</td>\n",
       "      <td>Entire home/apt</td>\n",
       "      <td>Apartment</td>\n",
       "    </tr>\n",
       "    <tr>\n",
       "      <th>1</th>\n",
       "      <td>1</td>\n",
       "      <td>0</td>\n",
       "      <td>1</td>\n",
       "      <td>89.0</td>\n",
       "      <td>Clinton Hill</td>\n",
       "      <td>Entire home/apt</td>\n",
       "      <td>Guest suite</td>\n",
       "    </tr>\n",
       "    <tr>\n",
       "      <th>2</th>\n",
       "      <td>2</td>\n",
       "      <td>0</td>\n",
       "      <td>0</td>\n",
       "      <td>200.0</td>\n",
       "      <td>Murray Hill-Kips Bay</td>\n",
       "      <td>Entire home/apt</td>\n",
       "      <td>Apartment</td>\n",
       "    </tr>\n",
       "    <tr>\n",
       "      <th>3</th>\n",
       "      <td>1</td>\n",
       "      <td>1</td>\n",
       "      <td>0</td>\n",
       "      <td>60.0</td>\n",
       "      <td>Clinton Hill</td>\n",
       "      <td>Private room</td>\n",
       "      <td>Apartment</td>\n",
       "    </tr>\n",
       "    <tr>\n",
       "      <th>4</th>\n",
       "      <td>3</td>\n",
       "      <td>1</td>\n",
       "      <td>0</td>\n",
       "      <td>79.0</td>\n",
       "      <td>Clinton</td>\n",
       "      <td>Private room</td>\n",
       "      <td>Apartment</td>\n",
       "    </tr>\n",
       "  </tbody>\n",
       "</table>\n",
       "</div>"
      ],
      "text/plain": [
       "   nta_id  room_type_id  property_type_id  Price                ntaname  \\\n",
       "0       0             0                 0  225.0  Midtown-Midtown South   \n",
       "1       1             0                 1   89.0           Clinton Hill   \n",
       "2       2             0                 0  200.0   Murray Hill-Kips Bay   \n",
       "3       1             1                 0   60.0           Clinton Hill   \n",
       "4       3             1                 0   79.0                Clinton   \n",
       "\n",
       "         room_type property_type  \n",
       "0  Entire home/apt     Apartment  \n",
       "1  Entire home/apt   Guest suite  \n",
       "2  Entire home/apt     Apartment  \n",
       "3     Private room     Apartment  \n",
       "4     Private room     Apartment  "
      ]
     },
     "execution_count": 79,
     "metadata": {},
     "output_type": "execute_result"
    }
   ],
   "source": [
    "df3=df3.rename(columns={\"ntaname\": \"nta_id\", \"room_type\": \"room_type_id\",\"property_type\":\"property_type_id\",\"price\":\"Price\"})\n",
    "df4=pd.concat([df3, df2.reindex(df2.index)], axis=1)\n",
    "df4.drop('price', inplace=True, axis=1)\n",
    "df4.head(100)\n",
    "#apt = 0\n"
   ]
  },
  {
   "cell_type": "code",
   "execution_count": 18,
   "metadata": {},
   "outputs": [
    {
     "name": "stdout",
     "output_type": "stream",
     "text": [
      "Collecting package metadata (current_repodata.json): done\n",
      "Solving environment: failed with initial frozen solve. Retrying with flexible solve.\n",
      "Collecting package metadata (repodata.json): done\n",
      "Solving environment: failed with initial frozen solve. Retrying with flexible solve.\n",
      "\n",
      "PackagesNotFoundError: The following packages are not available from current channels:\n",
      "\n",
      "  - dataframe\n",
      "\n",
      "Current channels:\n",
      "\n",
      "  - https://repo.anaconda.com/pkgs/main/osx-64\n",
      "  - https://repo.anaconda.com/pkgs/main/noarch\n",
      "  - https://repo.anaconda.com/pkgs/r/osx-64\n",
      "  - https://repo.anaconda.com/pkgs/r/noarch\n",
      "\n",
      "To search for alternate channels that may provide the conda package you're\n",
      "looking for, navigate to\n",
      "\n",
      "    https://anaconda.org\n",
      "\n",
      "and use the search bar at the top of the page.\n",
      "\n",
      "\n",
      "\n",
      "Note: you may need to restart the kernel to use updated packages.\n"
     ]
    }
   ],
   "source": []
  },
  {
   "cell_type": "code",
   "execution_count": 121,
   "metadata": {},
   "outputs": [
    {
     "data": {
      "text/plain": [
       "ntaname\n",
       "North Side-South Side                         2285\n",
       "Bushwick South                                1796\n",
       "Clinton                                       1742\n",
       "Stuyvesant Heights                            1567\n",
       "Crown Heights North                           1558\n",
       "Bedford                                       1476\n",
       "East Village                                  1435\n",
       "Hudson Yards-Chelsea-Flatiron-Union Square    1412\n",
       "West Village                                  1230\n",
       "Upper West Side                               1201\n",
       "East Williamsburg                             1190\n",
       "Bushwick North                                1160\n",
       "Midtown-Midtown South                         1113\n",
       "SoHo-TriBeCa-Civic Center-Little Italy        1024\n",
       "Greenpoint                                    1013\n",
       "Park Slope-Gowanus                             966\n",
       "Central Harlem North-Polo Grounds              923\n",
       "Chinatown                                      918\n",
       "Clinton Hill                                   910\n",
       "Lower East Side                                876\n",
       "Turtle Bay-East Midtown                        875\n",
       "Murray Hill-Kips Bay                           843\n",
       "Astoria                                        801\n",
       "Lenox Hill-Roosevelt Island                    800\n",
       "Battery Park City-Lower Manhattan              795\n",
       "Central Harlem South                           771\n",
       "Hamilton Heights                               757\n",
       "Yorkville                                      754\n",
       "Morningside Heights                            684\n",
       "Prospect Lefferts Gardens-Wingate              662\n",
       "Name: nta_id, dtype: int64"
      ]
     },
     "execution_count": 121,
     "metadata": {},
     "output_type": "execute_result"
    }
   ],
   "source": [
    "df4.groupby('ntaname').count()['nta_id'].nlargest(30)"
   ]
  },
  {
   "cell_type": "code",
   "execution_count": 142,
   "metadata": {},
   "outputs": [
    {
     "data": {
      "text/html": [
       "<div>\n",
       "<style scoped>\n",
       "    .dataframe tbody tr th:only-of-type {\n",
       "        vertical-align: middle;\n",
       "    }\n",
       "\n",
       "    .dataframe tbody tr th {\n",
       "        vertical-align: top;\n",
       "    }\n",
       "\n",
       "    .dataframe thead th {\n",
       "        text-align: right;\n",
       "    }\n",
       "</style>\n",
       "<table border=\"1\" class=\"dataframe\">\n",
       "  <thead>\n",
       "    <tr style=\"text-align: right;\">\n",
       "      <th></th>\n",
       "      <th>nta_id</th>\n",
       "      <th>room_type_id</th>\n",
       "      <th>property_type_id</th>\n",
       "      <th>Price</th>\n",
       "      <th>ntaname</th>\n",
       "      <th>room_type</th>\n",
       "      <th>property_type</th>\n",
       "    </tr>\n",
       "  </thead>\n",
       "  <tbody>\n",
       "    <tr>\n",
       "      <th>561</th>\n",
       "      <td>77</td>\n",
       "      <td>0</td>\n",
       "      <td>0</td>\n",
       "      <td>75.0</td>\n",
       "      <td>Stapleton-Rosebank</td>\n",
       "      <td>Entire home/apt</td>\n",
       "      <td>Apartment</td>\n",
       "    </tr>\n",
       "    <tr>\n",
       "      <th>812</th>\n",
       "      <td>77</td>\n",
       "      <td>1</td>\n",
       "      <td>0</td>\n",
       "      <td>59.0</td>\n",
       "      <td>Stapleton-Rosebank</td>\n",
       "      <td>Private room</td>\n",
       "      <td>Apartment</td>\n",
       "    </tr>\n",
       "    <tr>\n",
       "      <th>905</th>\n",
       "      <td>77</td>\n",
       "      <td>1</td>\n",
       "      <td>6</td>\n",
       "      <td>97.0</td>\n",
       "      <td>Stapleton-Rosebank</td>\n",
       "      <td>Private room</td>\n",
       "      <td>House</td>\n",
       "    </tr>\n",
       "    <tr>\n",
       "      <th>1339</th>\n",
       "      <td>77</td>\n",
       "      <td>1</td>\n",
       "      <td>6</td>\n",
       "      <td>71.0</td>\n",
       "      <td>Stapleton-Rosebank</td>\n",
       "      <td>Private room</td>\n",
       "      <td>House</td>\n",
       "    </tr>\n",
       "    <tr>\n",
       "      <th>2674</th>\n",
       "      <td>77</td>\n",
       "      <td>1</td>\n",
       "      <td>16</td>\n",
       "      <td>100.0</td>\n",
       "      <td>Stapleton-Rosebank</td>\n",
       "      <td>Private room</td>\n",
       "      <td>Earth house</td>\n",
       "    </tr>\n",
       "    <tr>\n",
       "      <th>...</th>\n",
       "      <td>...</td>\n",
       "      <td>...</td>\n",
       "      <td>...</td>\n",
       "      <td>...</td>\n",
       "      <td>...</td>\n",
       "      <td>...</td>\n",
       "      <td>...</td>\n",
       "    </tr>\n",
       "    <tr>\n",
       "      <th>47414</th>\n",
       "      <td>77</td>\n",
       "      <td>1</td>\n",
       "      <td>6</td>\n",
       "      <td>65.0</td>\n",
       "      <td>Stapleton-Rosebank</td>\n",
       "      <td>Private room</td>\n",
       "      <td>House</td>\n",
       "    </tr>\n",
       "    <tr>\n",
       "      <th>49272</th>\n",
       "      <td>77</td>\n",
       "      <td>1</td>\n",
       "      <td>6</td>\n",
       "      <td>59.0</td>\n",
       "      <td>Stapleton-Rosebank</td>\n",
       "      <td>Private room</td>\n",
       "      <td>House</td>\n",
       "    </tr>\n",
       "    <tr>\n",
       "      <th>49275</th>\n",
       "      <td>77</td>\n",
       "      <td>1</td>\n",
       "      <td>6</td>\n",
       "      <td>199.0</td>\n",
       "      <td>Stapleton-Rosebank</td>\n",
       "      <td>Private room</td>\n",
       "      <td>House</td>\n",
       "    </tr>\n",
       "    <tr>\n",
       "      <th>49449</th>\n",
       "      <td>77</td>\n",
       "      <td>0</td>\n",
       "      <td>6</td>\n",
       "      <td>80.0</td>\n",
       "      <td>Stapleton-Rosebank</td>\n",
       "      <td>Entire home/apt</td>\n",
       "      <td>House</td>\n",
       "    </tr>\n",
       "    <tr>\n",
       "      <th>49595</th>\n",
       "      <td>77</td>\n",
       "      <td>0</td>\n",
       "      <td>0</td>\n",
       "      <td>75.0</td>\n",
       "      <td>Stapleton-Rosebank</td>\n",
       "      <td>Entire home/apt</td>\n",
       "      <td>Apartment</td>\n",
       "    </tr>\n",
       "  </tbody>\n",
       "</table>\n",
       "<p>65 rows × 7 columns</p>\n",
       "</div>"
      ],
      "text/plain": [
       "       nta_id  room_type_id  property_type_id  Price             ntaname  \\\n",
       "561        77             0                 0   75.0  Stapleton-Rosebank   \n",
       "812        77             1                 0   59.0  Stapleton-Rosebank   \n",
       "905        77             1                 6   97.0  Stapleton-Rosebank   \n",
       "1339       77             1                 6   71.0  Stapleton-Rosebank   \n",
       "2674       77             1                16  100.0  Stapleton-Rosebank   \n",
       "...       ...           ...               ...    ...                 ...   \n",
       "47414      77             1                 6   65.0  Stapleton-Rosebank   \n",
       "49272      77             1                 6   59.0  Stapleton-Rosebank   \n",
       "49275      77             1                 6  199.0  Stapleton-Rosebank   \n",
       "49449      77             0                 6   80.0  Stapleton-Rosebank   \n",
       "49595      77             0                 0   75.0  Stapleton-Rosebank   \n",
       "\n",
       "             room_type property_type  \n",
       "561    Entire home/apt     Apartment  \n",
       "812       Private room     Apartment  \n",
       "905       Private room         House  \n",
       "1339      Private room         House  \n",
       "2674      Private room   Earth house  \n",
       "...                ...           ...  \n",
       "47414     Private room         House  \n",
       "49272     Private room         House  \n",
       "49275     Private room         House  \n",
       "49449  Entire home/apt         House  \n",
       "49595  Entire home/apt     Apartment  \n",
       "\n",
       "[65 rows x 7 columns]"
      ]
     },
     "execution_count": 142,
     "metadata": {},
     "output_type": "execute_result"
    }
   ],
   "source": [
    "df4[df4.ntaname == 'Stapleton-Rosebank']"
   ]
  },
  {
   "cell_type": "markdown",
   "metadata": {},
   "source": [
    "property - \n",
    "apt- 0\n",
    "house - 6\n",
    "condo - 5\n",
    "Townhouse - 2\n",
    "\n",
    "Entire home/apt - 0\n",
    "private room - 1\n",
    "\n",
    "Brooklyn   8 North Side-South Side    2285 \n",
    "           26 Bushwick South           1796\n",
    "           13 Stuyvesant Heights       1567\n",
    "           11 Crown Heights North      1558\n",
    "           42 Bedford                  1476\n",
    "           19 East Williamsburg        1190\n",
    "Manhattan  3 Clinton                                       1742\n",
    "           16 East Village                                  1435\n",
    "           10 Hudson Yards-Chelsea-Flatiron-Union Square    1412\n",
    "           7 West Village                                  1230\n",
    "           22 Upper West Side                               1201\n",
    "           0 Midtown-Midtown South                         1113\n",
    "Queens     54 Astoria                                 801\n",
    "           25 Hunters Point-Sunnyside-West Maspeth    589\n",
    "           45 Ridgewood                               480\n",
    "           50 Steinway                                324\n",
    "           82 Jackson Heights                         279\n",
    "Bronx      46 Mott Haven-Port Morris      113\n",
    "           118 Williamsbridge-Olinville     67\n",
    "           Allerton-Pelham Gardens      59\n",
    "           Van Cortlandt Village        57\n",
    "           West Concourse               54\n",
    "           Woodlawn-Wakefield           53\n",
    "Staten Island  43 West New Brighton-New Brighton-St. George    79\n",
    "               77 Stapleton-Rosebank                           65\n",
    "               New Brighton-Silver Lake                     39\n",
    "               Grasmere-Arrochar-Ft. Wadsworth              30\n",
    "               Grymes Hill-Clifton-Fox Hills                27\n",
    "               New Dorp-Midland Beach                       25"
   ]
  }
 ],
 "metadata": {
  "kernelspec": {
   "display_name": "Python 3",
   "language": "python",
   "name": "python3"
  },
  "language_info": {
   "codemirror_mode": {
    "name": "ipython",
    "version": 3
   },
   "file_extension": ".py",
   "mimetype": "text/x-python",
   "name": "python",
   "nbconvert_exporter": "python",
   "pygments_lexer": "ipython3",
   "version": "3.7.6"
  }
 },
 "nbformat": 4,
 "nbformat_minor": 4
}
